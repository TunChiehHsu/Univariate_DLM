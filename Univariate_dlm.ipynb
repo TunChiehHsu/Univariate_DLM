{
 "cells": [
  {
   "cell_type": "code",
   "execution_count": 6,
   "metadata": {
    "collapsed": true
   },
   "outputs": [],
   "source": [
    "import numpy as np\n",
    "from scipy.linalg import block_diag\n"
   ]
  },
  {
   "cell_type": "code",
   "execution_count": 16,
   "metadata": {},
   "outputs": [],
   "source": [
    "# Trend\n",
    "class dlm_trend(object):\n",
    "    \n",
    "    def __init__(self,order,a = None,R = 0.01):\n",
    "        \n",
    "        if a is None:\n",
    "            a = [10]*order\n",
    "\n",
    "        \n",
    "        self.order = order\n",
    "        # F\n",
    "        Ftrend = np.mat(np.zeros(self.order).tolist())\n",
    "        Ftrend[0] = 1\n",
    "        Ftrend.shape = (order,1)\n",
    "        self.Ftrend = np.matrix(Ftrend)\n",
    "\n",
    "        # G \n",
    "        subG = np.identity(self.order-1)\n",
    "        G = np.zeros((self.order,self.order))\n",
    "        G[:order-1,1:] = subG\n",
    "        np.fill_diagonal(G,1) \n",
    "        self.Gtrend = np.matrix(G)\n",
    "\n",
    "        # prior: a, R\n",
    "        self.a = np.array(a)\n",
    "        self.R = np.array(R)\n",
    "        \n",
    "# Regressor\n",
    "class dlm_reg(object):\n",
    "    \n",
    "    def __init__(self,q, a = None, R = 0.01):\n",
    "        self.q = q\n",
    "        \n",
    "        \n",
    "        if a is None:\n",
    "            a = [10]*self.q\n",
    "        \n",
    "        Freg = np.mat(np.zeros(self.q))\n",
    "        Freg.shape = (self.q,1)\n",
    "        self.Freg = Freg\n",
    "        \n",
    "\n",
    "        Greg = np.identity(self.q)\n",
    "        self.Greg = Greg\n",
    "        \n",
    "        # prior: a, R\n",
    "        self.a = np.array(a)\n",
    "        self.R = np.array(R)\n",
    "        \n",
    "# seasonal \n",
    "class dlm_season(object):\n",
    "    \n",
    "    \n",
    "    def __init__(self,p , rseas = [1,3,4],a = None, R = 0.01):\n",
    "        \n",
    "        \n",
    "        \n",
    "        \n",
    "        \n",
    "        pseas = len(rseas)\n",
    "        nseas = 2*pseas\n",
    "        Fseas = np.mat(np.array([1,0]*pseas))\n",
    "        Fseas.shape = (2*pseas,1)\n",
    "        Gseas = np.mat(np.zeros((nseas,nseas)))\n",
    "        \n",
    "        for j in range(pseas):\n",
    "            i = j + 1 \n",
    "            c = np.cos(2*np.pi*rseas[j]/p)\n",
    "            s = np.sin(2*np.pi*rseas[j]/p)\n",
    "            index = list(range(2*i-1,2*i+1))\n",
    "\n",
    "            Gseas[index[0]-1:index[1],index[0]-1:index[1]] = np.mat(np.array([[c,s],[-s,c]]))\n",
    "\n",
    "\n",
    "        self.Gseas = Gseas\n",
    "        self.Fseas = Fseas\n",
    "        \n",
    "        # prior: a, R\n",
    "\n",
    "        if a is None:\n",
    "            a = [10]*nseas\n",
    "            \n",
    "        self.a = np.array(a)\n",
    "        R_T = np.identity(nseas)\n",
    "        np.fill_diagonal(R_T,R)\n",
    "        self.R = R_T\n",
    "        \n",
    "\n",
    " "
   ]
  },
  {
   "cell_type": "code",
   "execution_count": 35,
   "metadata": {},
   "outputs": [],
   "source": [
    "class dlm_mod(object):\n",
    "    \n",
    "    def __init__(self, dlm_trend = None, dlm_reg = None, dlm_seas = None, nu = 6, S = np.power(0.15,2)):\n",
    "    \n",
    "        F = np.concatenate((dlm_trend.Ftrend, dlm_reg.Freg, dlm_seas.Fseas))\n",
    "        G = np.mat(block_diag(dlm_trend.Gtrend,dlm_reg.Greg,dlm_seas.Gseas))\n",
    "        R = np.mat(block_diag(dlm_trend.R,dlm_reg.R,dlm_seas.R))\n",
    "        \n",
    "        a = np.mat(np.concatenate([dlm_trend.a.tolist()] + [dlm_reg.a.tolist()] + [dlm_seas.a.tolist()]))\n",
    "        a.shape = (a.shape[1],1)\n",
    "        \n",
    "        self.F = F\n",
    "        self.G = G\n",
    "        self.R = R\n",
    "        self.a = a\n",
    "        self.nu = nu\n",
    "        self.S = S"
   ]
  },
  {
   "cell_type": "code",
   "execution_count": 36,
   "metadata": {
    "collapsed": true
   },
   "outputs": [],
   "source": [
    "mod_trend = dlm_trend(1, R = 0.09)\n",
    "mod_reg = dlm_reg(q = 3)\n",
    "mod_seas = dlm_season(52,[1,3],R = 0.0067)"
   ]
  },
  {
   "cell_type": "code",
   "execution_count": 37,
   "metadata": {},
   "outputs": [
    {
     "data": {
      "text/plain": [
       "matrix([[ 1.],\n",
       "        [ 0.],\n",
       "        [ 0.],\n",
       "        [ 0.],\n",
       "        [ 1.],\n",
       "        [ 0.],\n",
       "        [ 1.],\n",
       "        [ 0.]])"
      ]
     },
     "execution_count": 37,
     "metadata": {},
     "output_type": "execute_result"
    }
   ],
   "source": [
    "dlm_mod(mod_trend,mod_reg,mod_seas).F"
   ]
  },
  {
   "cell_type": "code",
   "execution_count": 38,
   "metadata": {},
   "outputs": [
    {
     "data": {
      "text/plain": [
       "matrix([[ 1.        ,  0.        ,  0.        ,  0.        ,  0.        ,\n",
       "          0.        ,  0.        ,  0.        ],\n",
       "        [ 0.        ,  1.        ,  0.        ,  0.        ,  0.        ,\n",
       "          0.        ,  0.        ,  0.        ],\n",
       "        [ 0.        ,  0.        ,  1.        ,  0.        ,  0.        ,\n",
       "          0.        ,  0.        ,  0.        ],\n",
       "        [ 0.        ,  0.        ,  0.        ,  1.        ,  0.        ,\n",
       "          0.        ,  0.        ,  0.        ],\n",
       "        [ 0.        ,  0.        ,  0.        ,  0.        ,  0.99270887,\n",
       "          0.12053668,  0.        ,  0.        ],\n",
       "        [ 0.        ,  0.        ,  0.        ,  0.        , -0.12053668,\n",
       "          0.99270887,  0.        ,  0.        ],\n",
       "        [ 0.        ,  0.        ,  0.        ,  0.        ,  0.        ,\n",
       "          0.        ,  0.93501624,  0.35460489],\n",
       "        [ 0.        ,  0.        ,  0.        ,  0.        ,  0.        ,\n",
       "          0.        , -0.35460489,  0.93501624]])"
      ]
     },
     "execution_count": 38,
     "metadata": {},
     "output_type": "execute_result"
    }
   ],
   "source": [
    "dlm_mod(mod_trend,mod_reg,mod_seas).G"
   ]
  },
  {
   "cell_type": "code",
   "execution_count": 39,
   "metadata": {},
   "outputs": [
    {
     "data": {
      "text/plain": [
       "matrix([[ 0.09  ,  0.    ,  0.    ,  0.    ,  0.    ,  0.    ],\n",
       "        [ 0.    ,  0.01  ,  0.    ,  0.    ,  0.    ,  0.    ],\n",
       "        [ 0.    ,  0.    ,  0.0067,  0.    ,  0.    ,  0.    ],\n",
       "        [ 0.    ,  0.    ,  0.    ,  0.0067,  0.    ,  0.    ],\n",
       "        [ 0.    ,  0.    ,  0.    ,  0.    ,  0.0067,  0.    ],\n",
       "        [ 0.    ,  0.    ,  0.    ,  0.    ,  0.    ,  0.0067]])"
      ]
     },
     "execution_count": 39,
     "metadata": {},
     "output_type": "execute_result"
    }
   ],
   "source": [
    "dlm_mod(mod_trend,mod_reg,mod_seas).R"
   ]
  },
  {
   "cell_type": "code",
   "execution_count": 40,
   "metadata": {},
   "outputs": [
    {
     "data": {
      "text/plain": [
       "matrix([[10],\n",
       "        [10],\n",
       "        [10],\n",
       "        [10],\n",
       "        [10],\n",
       "        [10],\n",
       "        [10],\n",
       "        [10]])"
      ]
     },
     "execution_count": 40,
     "metadata": {},
     "output_type": "execute_result"
    }
   ],
   "source": [
    "dlm_mod(mod_trend,mod_reg,mod_seas).a"
   ]
  },
  {
   "cell_type": "code",
   "execution_count": null,
   "metadata": {
    "collapsed": true
   },
   "outputs": [],
   "source": []
  },
  {
   "cell_type": "code",
   "execution_count": null,
   "metadata": {
    "collapsed": true
   },
   "outputs": [],
   "source": []
  }
 ],
 "metadata": {
  "kernelspec": {
   "display_name": "Python 3",
   "language": "python",
   "name": "python3"
  },
  "language_info": {
   "codemirror_mode": {
    "name": "ipython",
    "version": 3
   },
   "file_extension": ".py",
   "mimetype": "text/x-python",
   "name": "python",
   "nbconvert_exporter": "python",
   "pygments_lexer": "ipython3",
   "version": "3.6.1"
  }
 },
 "nbformat": 4,
 "nbformat_minor": 2
}
